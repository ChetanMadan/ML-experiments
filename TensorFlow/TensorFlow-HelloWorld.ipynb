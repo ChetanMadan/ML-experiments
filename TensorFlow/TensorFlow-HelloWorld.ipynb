{
 "cells": [
  {
   "cell_type": "code",
   "execution_count": 2,
   "metadata": {},
   "outputs": [],
   "source": [
    "import tensorflow as tf"
   ]
  },
  {
   "cell_type": "code",
   "execution_count": 3,
   "metadata": {},
   "outputs": [
    {
     "name": "stdout",
     "output_type": "stream",
     "text": [
      "[5]\n"
     ]
    }
   ],
   "source": [
    "a = tf.constant([2])\n",
    "b = tf.constant([3])\n",
    "\n",
    "c = tf.add(a,b)\n",
    "\n",
    "with tf.Session() as sess:\n",
    "    print (sess.run(c))"
   ]
  },
  {
   "cell_type": "code",
   "execution_count": 6,
   "metadata": {},
   "outputs": [
    {
     "name": "stdout",
     "output_type": "stream",
     "text": [
      "[[ 5  7]\n",
      " [10 12]]\n",
      "[[ 4 10]\n",
      " [24 35]]\n",
      "[[16 19]\n",
      " [46 55]]\n"
     ]
    }
   ],
   "source": [
    "a = tf.constant([[1,2],[4,5]])\n",
    "b = tf.constant([[4,5],[6,7]])\n",
    "\n",
    "c = tf.add(a,b)\n",
    "d = tf.multiply(a,b)\n",
    "e = tf.matmul(a,b)\n",
    "\n",
    "with tf.Session() as sess:\n",
    "    print(sess.run(c))\n",
    "    print(sess.run(d))    \n",
    "    print(sess.run(e))    "
   ]
  },
  {
   "cell_type": "code",
   "execution_count": 11,
   "metadata": {},
   "outputs": [
    {
     "name": "stdout",
     "output_type": "stream",
     "text": [
      "1\n",
      "2\n",
      "3\n",
      "4\n",
      "5\n"
     ]
    }
   ],
   "source": [
    "count = tf.Variable(0)\n",
    "increment = tf.add(count, 1)\n",
    "update = tf.assign(count, increment)\n",
    "\n",
    "init_op = tf.global_variables_initializer()\n",
    "\n",
    "with tf.Session() as sess:\n",
    "    sess.run(init_op)\n",
    "    for i in range(5):\n",
    "        print(sess.run(update))"
   ]
  },
  {
   "cell_type": "code",
   "execution_count": 12,
   "metadata": {},
   "outputs": [
    {
     "name": "stdout",
     "output_type": "stream",
     "text": [
      "45\n"
     ]
    }
   ],
   "source": [
    "test = tf.Variable(0)\n",
    "assignment = tf.assign(test, 45)\n",
    "\n",
    "with tf.Session() as sess:\n",
    "    sess.run(assignment)\n",
    "    print(sess.run(test))"
   ]
  },
  {
   "cell_type": "code",
   "execution_count": null,
   "metadata": {
    "collapsed": true
   },
   "outputs": [],
   "source": []
  }
 ],
 "metadata": {
  "kernelspec": {
   "display_name": "Python 3",
   "language": "python",
   "name": "python3"
  },
  "language_info": {
   "codemirror_mode": {
    "name": "ipython",
    "version": 3
   },
   "file_extension": ".py",
   "mimetype": "text/x-python",
   "name": "python",
   "nbconvert_exporter": "python",
   "pygments_lexer": "ipython3",
   "version": "3.6.3"
  }
 },
 "nbformat": 4,
 "nbformat_minor": 2
}
