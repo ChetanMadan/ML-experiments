{
 "cells": [
  {
   "cell_type": "code",
   "execution_count": 20,
   "metadata": {
    "collapsed": true
   },
   "outputs": [],
   "source": [
    "import numpy as np"
   ]
  },
  {
   "cell_type": "code",
   "execution_count": 21,
   "metadata": {
    "collapsed": true
   },
   "outputs": [],
   "source": [
    "def sig(z):\n",
    "    return 1/(1 + np.exp(-z))\n",
    "\n",
    "def der_sig(sig_out):\n",
    "    return sig_out*(1-sig_out)"
   ]
  },
  {
   "cell_type": "code",
   "execution_count": 67,
   "metadata": {
    "collapsed": true
   },
   "outputs": [],
   "source": [
    "X = np.array([[0,0,1],\n",
    "              [0,1,1],\n",
    "              [1,0,1],\n",
    "              [1,1,1]])\n",
    "Y = np.array([[1,0,0,1]]).T"
   ]
  },
  {
   "cell_type": "code",
   "execution_count": 43,
   "metadata": {},
   "outputs": [
    {
     "name": "stdout",
     "output_type": "stream",
     "text": [
      "[[0.09762701]\n",
      " [0.43037873]\n",
      " [0.20552675]]\n"
     ]
    }
   ],
   "source": [
    "np.random.seed(0)\n",
    "weights = 2 * np.random.random((3,1)) - 1\n",
    "print(weights)"
   ]
  },
  {
   "cell_type": "code",
   "execution_count": 45,
   "metadata": {},
   "outputs": [
    {
     "name": "stdout",
     "output_type": "stream",
     "text": [
      "[[0.03]\n",
      " [0.02]\n",
      " [0.98]\n",
      " [0.98]]\n"
     ]
    }
   ],
   "source": [
    "for iter in range(10000):\n",
    "    rate = 0.1\n",
    "\n",
    "    output0 = X\n",
    "    output1 = sig(np.dot(output0, weights))\n",
    "\n",
    "    first_term = output1 - Y\n",
    "    second_term = der_sig(output1)\n",
    "    first_two = first_term * second_term\n",
    "    third_term = output0\n",
    "\n",
    "    changes = np.array([[0.,0.,0.]])\n",
    "\n",
    "    for i in range(3):\n",
    "        for j in range(4):\n",
    "            changes[0][i] = changes[0][i] + first_two[j][0]*output0[j][i]\n",
    "    \n",
    "    weights = weights - rate*changes.T\n",
    "\n",
    "output1 = sig(np.dot(X, weights))\n",
    "print(np.round(output1,2))"
   ]
  },
  {
   "cell_type": "code",
   "execution_count": 68,
   "metadata": {
    "collapsed": true
   },
   "outputs": [],
   "source": [
    "weights0 = 2*np.random.random((3,4)) - 1\n",
    "weights1 = 2*np.random.random((4,1)) - 1"
   ]
  },
  {
   "cell_type": "code",
   "execution_count": 70,
   "metadata": {},
   "outputs": [
    {
     "data": {
      "text/plain": [
       "array([[0.99 ],\n",
       "       [0.01 ],\n",
       "       [0.008],\n",
       "       [0.991]])"
      ]
     },
     "execution_count": 70,
     "metadata": {},
     "output_type": "execute_result"
    }
   ],
   "source": [
    "for iter in range(100000):\n",
    "    layer0 = X\n",
    "    layer1 = sig(np.dot(layer0, weights0))\n",
    "    layer2 = sig(np.dot(layer1, weights1))\n",
    "\n",
    "    l2_error = layer2 - Y\n",
    "    l2_delta = l2_error * der_sig(layer2)\n",
    "\n",
    "    net_change2 = np.dot(layer1.T, l2_delta)\n",
    "\n",
    "    l1_error = l2_delta.dot(weights1.T)\n",
    "    l1_delta = l1_error * der_sig(layer1)\n",
    "\n",
    "    net_change1 = np.dot(layer0.T, l1_delta)\n",
    "\n",
    "    weights0 = weights0 - rate*net_change1\n",
    "    weights1 = weights1 - rate*net_change2\n",
    "\n",
    "layer0 = X\n",
    "layer1 = sig(np.dot(layer0, weights0))\n",
    "layer2 = sig(np.dot(layer1, weights1))\n",
    "np.round(layer2,3)"
   ]
  },
  {
   "cell_type": "code",
   "execution_count": null,
   "metadata": {
    "collapsed": true
   },
   "outputs": [],
   "source": []
  }
 ],
 "metadata": {
  "kernelspec": {
   "display_name": "Python 3",
   "language": "python",
   "name": "python3"
  },
  "language_info": {
   "codemirror_mode": {
    "name": "ipython",
    "version": 3
   },
   "file_extension": ".py",
   "mimetype": "text/x-python",
   "name": "python",
   "nbconvert_exporter": "python",
   "pygments_lexer": "ipython3",
   "version": "3.6.3"
  }
 },
 "nbformat": 4,
 "nbformat_minor": 2
}
