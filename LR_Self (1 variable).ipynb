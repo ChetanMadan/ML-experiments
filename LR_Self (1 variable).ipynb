{
 "cells": [
  {
   "cell_type": "code",
   "execution_count": 3,
   "metadata": {
    "collapsed": true
   },
   "outputs": [],
   "source": [
    "#fit function\n",
    "def fit(X_train, Y_train):\n",
    "    m = (X_train.mean()*Y_train.mean() - (X_train*Y_train).mean())/(X_train.mean()**2 - (X_train**2).mean())\n",
    "    b = Y_train.mean() - m*X_train.mean()\n",
    "    return m,b\n",
    "\n",
    "#predict function\n",
    "def predict(X_test, m, b):\n",
    "    return X_test*m+b\n",
    "\n",
    "#cost function\n",
    "def cost(Y_true, Y_pred):\n",
    "    return ((Y_true - Y_pred)**2).sum()\n",
    "\n",
    "#score function\n",
    "def score(Y_true, Y_pred):\n",
    "    num = ((Y_true - Y_pred)**2).sum()\n",
    "    den = ((Y_true -Y_true.mean())**2).sum()\n",
    "    return (1 - num/den)"
   ]
  }
 ],
 "metadata": {
  "kernelspec": {
   "display_name": "Python 3",
   "language": "python",
   "name": "python3"
  },
  "language_info": {
   "codemirror_mode": {
    "name": "ipython",
    "version": 3
   },
   "file_extension": ".py",
   "mimetype": "text/x-python",
   "name": "python",
   "nbconvert_exporter": "python",
   "pygments_lexer": "ipython3",
   "version": "3.6.3"
  }
 },
 "nbformat": 4,
 "nbformat_minor": 2
}
