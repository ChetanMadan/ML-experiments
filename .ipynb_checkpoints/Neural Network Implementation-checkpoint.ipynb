{
 "cells": [
  {
   "cell_type": "code",
   "execution_count": 3,
   "metadata": {
    "collapsed": true
   },
   "outputs": [],
   "source": [
    "import numpy as np"
   ]
  },
  {
   "cell_type": "code",
   "execution_count": 4,
   "metadata": {
    "collapsed": true
   },
   "outputs": [],
   "source": [
    "def sig(z):\n",
    "    return 1/(1 + np.exp(-z))\n",
    "\n",
    "def der_sig(sig_out):\n",
    "    return sig_out*(1-sig_out)"
   ]
  },
  {
   "cell_type": "code",
   "execution_count": 29,
   "metadata": {},
   "outputs": [],
   "source": [
    "X = np.array([[0,0,1],\n",
    "              [0,1,1],\n",
    "              [1,0,1],\n",
    "              [1,1,1]])\n",
    "Y = np.array([[0,0,0,1]]).T"
   ]
  },
  {
   "cell_type": "code",
   "execution_count": 156,
   "metadata": {},
   "outputs": [
    {
     "name": "stdout",
     "output_type": "stream",
     "text": [
      "[[0.09762701]\n",
      " [0.43037873]\n",
      " [0.20552675]]\n"
     ]
    }
   ],
   "source": [
    "np.random.seed(0)\n",
    "weights = 2 * np.random.random((3,1)) - 1\n",
    "print(weights)"
   ]
  },
  {
   "cell_type": "code",
   "execution_count": 157,
   "metadata": {},
   "outputs": [
    {
     "name": "stdout",
     "output_type": "stream",
     "text": [
      "[[0.  ]\n",
      " [0.06]\n",
      " [0.06]\n",
      " [0.93]]\n"
     ]
    }
   ],
   "source": [
    "for iter in range(100):\n",
    "    rate = 10\n",
    "\n",
    "    output0 = X\n",
    "    output1 = sig(np.dot(output0, weights))\n",
    "\n",
    "    first_term = output1 - Y\n",
    "    second_term = der_sig(output1)\n",
    "    first_two = first_term * second_term\n",
    "    third_term = output0\n",
    "\n",
    "    changes = np.array([[0.,0.,0.]])\n",
    "\n",
    "    for i in range(3):\n",
    "        for j in range(4):\n",
    "            changes[0][i] = changes[0][i] + first_two[j][0]*output0[j][i]\n",
    "    \n",
    "    weights = weights - rate*changes.T\n",
    "\n",
    "output1 = sig(np.dot(X, weights))\n",
    "print(np.round(output1,2))"
   ]
  },
  {
   "cell_type": "code",
   "execution_count": null,
   "metadata": {
    "collapsed": true
   },
   "outputs": [],
   "source": []
  }
 ],
 "metadata": {
  "kernelspec": {
   "display_name": "Python 3",
   "language": "python",
   "name": "python3"
  },
  "language_info": {
   "codemirror_mode": {
    "name": "ipython",
    "version": 3
   },
   "file_extension": ".py",
   "mimetype": "text/x-python",
   "name": "python",
   "nbconvert_exporter": "python",
   "pygments_lexer": "ipython3",
   "version": "3.6.3"
  }
 },
 "nbformat": 4,
 "nbformat_minor": 2
}
