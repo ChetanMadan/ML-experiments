{
 "cells": [
  {
   "cell_type": "code",
   "execution_count": 73,
   "metadata": {
    "collapsed": true
   },
   "outputs": [],
   "source": [
    "from sklearn import datasets\n",
    "cancer = datasets.load_iris()"
   ]
  },
  {
   "cell_type": "code",
   "execution_count": 74,
   "metadata": {},
   "outputs": [],
   "source": [
    "from sklearn.linear_model import LogisticRegression\n",
    "from sklearn import model_selection as cv"
   ]
  },
  {
   "cell_type": "code",
   "execution_count": 75,
   "metadata": {},
   "outputs": [],
   "source": [
    "X_train, X_test, Y_train, Y_test = cv.train_test_split(cancer.data, cancer.target, test_size=0.2)\n",
    "clf = LogisticRegression()"
   ]
  },
  {
   "cell_type": "code",
   "execution_count": 76,
   "metadata": {},
   "outputs": [
    {
     "data": {
      "text/plain": [
       "LogisticRegression(C=1.0, class_weight=None, dual=False, fit_intercept=True,\n",
       "          intercept_scaling=1, max_iter=100, multi_class='ovr', n_jobs=1,\n",
       "          penalty='l2', random_state=None, solver='liblinear', tol=0.0001,\n",
       "          verbose=0, warm_start=False)"
      ]
     },
     "execution_count": 76,
     "metadata": {},
     "output_type": "execute_result"
    }
   ],
   "source": [
    "clf.fit(X_train, Y_train)"
   ]
  },
  {
   "cell_type": "code",
   "execution_count": 77,
   "metadata": {},
   "outputs": [
    {
     "data": {
      "text/plain": [
       "array([1, 0, 0, 1, 1, 2, 2, 1, 0, 0, 2, 0, 0, 2, 1, 1, 1, 2, 1, 0, 0, 1,\n",
       "       0, 0, 1, 1, 2, 1, 2, 1])"
      ]
     },
     "execution_count": 77,
     "metadata": {},
     "output_type": "execute_result"
    }
   ],
   "source": [
    "clf.predict(X_test)"
   ]
  },
  {
   "cell_type": "code",
   "execution_count": 78,
   "metadata": {},
   "outputs": [
    {
     "data": {
      "text/plain": [
       "array([1, 0, 0, 1, 1, 2, 2, 1, 0, 0, 2, 0, 0, 1, 1, 1, 1, 2, 1, 0, 0, 1,\n",
       "       0, 0, 1, 1, 2, 1, 1, 1])"
      ]
     },
     "execution_count": 78,
     "metadata": {},
     "output_type": "execute_result"
    }
   ],
   "source": [
    "Y_test"
   ]
  },
  {
   "cell_type": "code",
   "execution_count": 80,
   "metadata": {},
   "outputs": [
    {
     "data": {
      "text/plain": [
       "array([[4.46961513e-02, 7.71980908e-01, 1.83322941e-01],\n",
       "       [8.88783593e-01, 1.11197043e-01, 1.93638494e-05],\n",
       "       [8.49287643e-01, 1.50677040e-01, 3.53170484e-05],\n",
       "       [1.51946128e-02, 4.95998341e-01, 4.88807047e-01],\n",
       "       [7.72756199e-02, 7.23022247e-01, 1.99702133e-01],\n",
       "       [1.86088146e-03, 2.72956174e-01, 7.25182945e-01],\n",
       "       [4.34962386e-04, 2.36088922e-01, 7.63476115e-01],\n",
       "       [4.00164710e-02, 6.87808555e-01, 2.72174974e-01],\n",
       "       [8.53474584e-01, 1.46454036e-01, 7.13802196e-05],\n",
       "       [8.59211837e-01, 1.40741898e-01, 4.62647430e-05],\n",
       "       [1.50680885e-03, 3.40435925e-01, 6.58057266e-01],\n",
       "       [8.85732178e-01, 1.14227218e-01, 4.06037541e-05],\n",
       "       [9.20211389e-01, 7.97851338e-02, 3.47708267e-06],\n",
       "       [1.64836098e-02, 3.71017572e-01, 6.12498818e-01],\n",
       "       [4.84611755e-02, 7.06959654e-01, 2.44579171e-01],\n",
       "       [4.82509963e-02, 6.10016165e-01, 3.41732839e-01],\n",
       "       [1.25580621e-02, 6.76551297e-01, 3.10890641e-01],\n",
       "       [7.37678220e-04, 1.58131320e-01, 8.41131002e-01],\n",
       "       [1.60404644e-02, 6.01400519e-01, 3.82559017e-01],\n",
       "       [8.33313693e-01, 1.66536982e-01, 1.49325269e-04],\n",
       "       [8.76957747e-01, 1.23010079e-01, 3.21734065e-05],\n",
       "       [5.30062126e-02, 7.50179121e-01, 1.96814666e-01],\n",
       "       [8.39408197e-01, 1.60546066e-01, 4.57375151e-05],\n",
       "       [8.37200026e-01, 1.62712987e-01, 8.69868218e-05],\n",
       "       [1.17892788e-01, 7.13449156e-01, 1.68658056e-01],\n",
       "       [2.87627974e-02, 5.74517251e-01, 3.96719952e-01],\n",
       "       [7.38385877e-04, 1.96919975e-01, 8.02341639e-01],\n",
       "       [7.92252044e-02, 7.33196854e-01, 1.87577941e-01],\n",
       "       [3.10669054e-03, 4.63257118e-01, 5.33636191e-01],\n",
       "       [7.01585212e-02, 5.76130503e-01, 3.53710976e-01]])"
      ]
     },
     "execution_count": 80,
     "metadata": {},
     "output_type": "execute_result"
    }
   ],
   "source": [
    "clf.predict_proba(X_test)"
   ]
  },
  {
   "cell_type": "code",
   "execution_count": 82,
   "metadata": {},
   "outputs": [
    {
     "data": {
      "text/plain": [
       "array([1, 0, 0, 1, 1, 2, 2, 1, 0, 0, 2, 0, 0, 2, 1, 1, 1, 2, 1, 0, 0, 1,\n",
       "       0, 0, 1, 1, 2, 1, 2, 1])"
      ]
     },
     "execution_count": 82,
     "metadata": {},
     "output_type": "execute_result"
    }
   ],
   "source": [
    "clf.predict(X_test)"
   ]
  },
  {
   "cell_type": "code",
   "execution_count": null,
   "metadata": {
    "collapsed": true
   },
   "outputs": [],
   "source": []
  }
 ],
 "metadata": {
  "kernelspec": {
   "display_name": "Python 3",
   "language": "python",
   "name": "python3"
  },
  "language_info": {
   "codemirror_mode": {
    "name": "ipython",
    "version": 3
   },
   "file_extension": ".py",
   "mimetype": "text/x-python",
   "name": "python",
   "nbconvert_exporter": "python",
   "pygments_lexer": "ipython3",
   "version": "3.6.3"
  }
 },
 "nbformat": 4,
 "nbformat_minor": 2
}
