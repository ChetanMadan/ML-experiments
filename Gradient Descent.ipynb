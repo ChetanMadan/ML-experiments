{
 "cells": [
  {
   "cell_type": "code",
   "execution_count": 218,
   "metadata": {},
   "outputs": [],
   "source": [
    "import numpy as np\n",
    "import matplotlib.pyplot as plt\n",
    "\n",
    "def step_gradient(points, learning_rate, b_current, m_current):\n",
    "    m_slope = 0\n",
    "    b_slope = 0\n",
    "    N = len(points)\n",
    "    for i in range(N):\n",
    "        x = points[i, 0]\n",
    "        y = points[i, 1]\n",
    "        b_slope += -(2/N) * (y - m_current* x - b_current)\n",
    "        m_slope += -(2/N) * (y - m_current* x - b_current)*x\n",
    "    new_m = m_current - learning_rate * m_slope\n",
    "    new_b = b_current - learning_rate* b_slope\n",
    "    return (new_b, new_m)\n",
    "\n",
    "def cost_gd(b, m , points):\n",
    "    total_cost = 0\n",
    "    for i in range(len(points)):\n",
    "        x = points[i, 0]\n",
    "        y = points[i, 1]\n",
    "        total_cost += (y - (m*x + b))**2\n",
    "    return total_cost/len(points)\n",
    "\n",
    "def gd_runner(points, learning_rate = 0.001, num_iterations = 1000):\n",
    "    b = 0\n",
    "    m = 0\n",
    "    print (\"Start: \", cost_gd(b, m , points))\n",
    "    for i in range(num_iterations):\n",
    "        b, m = step_gradient(points, learning_rate, b, m)\n",
    "    print (\"FINAL: \", cost_gd(b, m , points))\n",
    "    return (b, m)\n",
    "\n",
    "def run():\n",
    "    learning_rate = 0.0001\n",
    "    num_iterations = 500000\n",
    "    final_b, final_m = gd_runner(points, learning_rate, num_iterations)\n",
    "    print(final_b, final_m)\n",
    "    return (final_b, final_m)\n",
    "\n",
    "points = np.loadtxt(open(\"data.csv\", \"rb\"), delimiter=\",\")"
   ]
  },
  {
   "cell_type": "code",
   "execution_count": 219,
   "metadata": {},
   "outputs": [
    {
     "name": "stdout",
     "output_type": "stream",
     "text": [
      "Start:  5565.107834483211\n",
      "FINAL:  110.25864540573124\n",
      "7.808193346466106 1.3260244442316422\n"
     ]
    }
   ],
   "source": [
    "final_b, final_m = run()"
   ]
  },
  {
   "cell_type": "code",
   "execution_count": 220,
   "metadata": {},
   "outputs": [],
   "source": [
    "def graph(points):\n",
    "    for i in range(len(points)):\n",
    "        plt.scatter(points[:, 0], points[:, 1])\n",
    "\n",
    "def line(b, m):\n",
    "    line = [m*i+b for i in range(len(points))]\n",
    "    plt.plot(line, 'r')"
   ]
  },
  {
   "cell_type": "code",
   "execution_count": 221,
   "metadata": {
    "scrolled": true
   },
   "outputs": [
    {
     "data": {
      "image/png": "[encoded data removed]",
      "text/plain": [
       "<matplotlib.figure.Figure at 0x7f69da8b9630>"
      ]
     },
     "metadata": {},
     "output_type": "display_data"
    }
   ],
   "source": [
    "graph(points)\n",
    "line(final_b, final_m)\n",
    "plt.show()"
   ]
  },
  {
   "cell_type": "code",
   "execution_count": 222,
   "metadata": {},
   "outputs": [
    {
     "data": {
      "text/plain": [
       "LinearRegression(copy_X=True, fit_intercept=True, n_jobs=1, normalize=False)"
      ]
     },
     "execution_count": 222,
     "metadata": {},
     "output_type": "execute_result"
    }
   ],
   "source": [
    "from sklearn.linear_model import LinearRegression\n",
    "clf = LinearRegression()\n",
    "\n",
    "clf.fit(points[:, 0].reshape(-1,1),points[:, 1].reshape(-1,1))"
   ]
  },
  {
   "cell_type": "code",
   "execution_count": 223,
   "metadata": {},
   "outputs": [
    {
     "data": {
      "text/plain": [
       "array([[1.32243102]])"
      ]
     },
     "execution_count": 223,
     "metadata": {},
     "output_type": "execute_result"
    }
   ],
   "source": [
    "clf.coef_"
   ]
  },
  {
   "cell_type": "code",
   "execution_count": 224,
   "metadata": {},
   "outputs": [
    {
     "data": {
      "text/plain": [
       "array([7.99102098])"
      ]
     },
     "execution_count": 224,
     "metadata": {},
     "output_type": "execute_result"
    }
   ],
   "source": [
    "clf.intercept_"
   ]
  },
  {
   "cell_type": "code",
   "execution_count": 225,
   "metadata": {},
   "outputs": [
    {
     "data": {
      "image/png": "[encoded data removed]",
      "text/plain": [
       "<matplotlib.figure.Figure at 0x7f69d1dffc88>"
      ]
     },
     "metadata": {},
     "output_type": "display_data"
    }
   ],
   "source": [
    "graph(points)\n",
    "line(clf.intercept_[0], clf.coef_[0][0])\n",
    "plt.show()"
   ]
  },
  {
   "cell_type": "code",
   "execution_count": null,
   "metadata": {
    "collapsed": true
   },
   "outputs": [],
   "source": []
  }
 ],
 "metadata": {
  "anaconda-cloud": {},
  "kernelspec": {
   "display_name": "Python 3",
   "language": "python",
   "name": "python3"
  },
  "language_info": {
   "codemirror_mode": {
    "name": "ipython",
    "version": 3
   },
   "file_extension": ".py",
   "mimetype": "text/x-python",
   "name": "python",
   "nbconvert_exporter": "python",
   "pygments_lexer": "ipython3",
   "version": "3.6.3"
  }
 },
 "nbformat": 4,
 "nbformat_minor": 1
}
